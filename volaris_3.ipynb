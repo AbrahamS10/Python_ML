{
 "cells": [
  {
   "cell_type": "code",
   "execution_count": 24,
   "id": "f06db746-8235-40ec-8bbb-15daca7e8963",
   "metadata": {},
   "outputs": [
    {
     "name": "stdout",
     "output_type": "stream",
     "text": [
      "Consulta 1:\n",
      "  Region      Name        LastName\n",
      "1     MX  ANAPAOLA  MUNOZ ARELLANO\n",
      "\n",
      "Consulta 2:\n",
      "['email2' 'email3' 'email5' 'email9' 'email10']\n",
      "\n",
      "Consulta 3:\n",
      "  Region  NumProducts  NumCustomers  TotalAmount\n",
      "0     MX            7             7         4170\n",
      "1     US            6             6          252\n"
     ]
    }
   ],
   "source": [
    "import pandas as pd\n",
    "\n",
    "# Cargar el archivo de datos\n",
    "file_path = '/Users/Abraham/iCloud Drive (Archive)/Documents/ML-Python/SQL_TEST.xlsx'\n",
    "with pd.ExcelFile(file_path, engine='openpyxl') as xls:\n",
    "    data = pd.read_excel(xls, header=2)\n",
    "\n",
    "# Dividir el DataFrame en tres DataFrames diferentes y renombrar columnas\n",
    "Customer = data[['Customerid', 'Email', 'Name', 'LastName', 'Gender']]\n",
    "Customer.columns = ['Customerid', 'Email', 'Name', 'LastName', 'Gender']\n",
    "\n",
    "Product = data[['ProductID', 'Name.1', 'Datesale', 'Channel', 'Currency code', 'Amount', 'Customerid.1', 'Stationid']]\n",
    "Product.columns = ['ProductID', 'ProductName', 'Datesale', 'Channel', 'CurrencyCode', 'Amount', 'Customerid', 'Stationid']\n",
    "\n",
    "Station = data[['Stationid.1', 'Region', 'City']]\n",
    "Station.columns = ['Stationid', 'Region', 'City']\n",
    "\n",
    "# Consulta 1: Clientes con más compras en cada región MX y USA\n",
    "try:\n",
    "    merged_df = pd.merge(pd.merge(Customer, Product, on='Customerid'), Station, on='Stationid')\n",
    "    filtered_df = merged_df[merged_df['Region'].isin(['MX', 'USA'])]\n",
    "\n",
    "    top_customers = filtered_df.groupby(['Region', 'Name', 'LastName'], as_index=False)['Amount'].sum()\n",
    "    top_customers = top_customers.loc[top_customers.groupby('Region')['Amount'].idxmax()]\n",
    "\n",
    "    print(\"Consulta 1:\")\n",
    "    print(top_customers[['Region', 'Name', 'LastName']])\n",
    "    print()\n",
    "except KeyError as e:\n",
    "    print(f\"Error en la consulta 1: {e}\")\n",
    "    print(\"Columnas disponibles en merged_df:\", merged_df.columns.tolist())\n",
    "\n",
    "# Consulta 2: Emails de clientes mujeres con valor de productos comprados mayor a $100\n",
    "try:\n",
    "    female_customers = Customer[Customer['Gender'] == 1]\n",
    "    high_value_purchases = Product[Product['Amount'] > 100]\n",
    "\n",
    "    female_high_value_emails = pd.merge(female_customers, high_value_purchases, on='Customerid')['Email'].unique()\n",
    "\n",
    "    print(\"Consulta 2:\")\n",
    "    print(female_high_value_emails)\n",
    "    print()\n",
    "except KeyError as e:\n",
    "    print(f\"Error en la consulta 2: {e}\")\n",
    "    print(\"Columnas disponibles en female_customers:\", female_customers.columns.tolist())\n",
    "    print(\"Columnas disponibles en high_value_purchases:\", high_value_purchases.columns.tolist())\n",
    "\n",
    "# Consulta 3: Número de productos, número de clientes y amount total por región\n",
    "try:\n",
    "    summary_df = merged_df.groupby('Region').agg(\n",
    "        NumProducts=pd.NamedAgg(column='ProductID', aggfunc='nunique'),\n",
    "        NumCustomers=pd.NamedAgg(column='Customerid', aggfunc='nunique'),\n",
    "        TotalAmount=pd.NamedAgg(column='Amount', aggfunc='sum')\n",
    "    ).reset_index()\n",
    "\n",
    "    print(\"Consulta 3:\")\n",
    "    print(summary_df)\n",
    "except KeyError as e:\n",
    "    print(f\"Error en la consulta 3: {e}\")\n",
    "    print(\"Columnas disponibles en merged_df:\", merged_df.columns.tolist())\n"
   ]
  },
  {
   "cell_type": "code",
   "execution_count": null,
   "id": "4a519c28-379a-46fb-a325-cbb983de4032",
   "metadata": {},
   "outputs": [],
   "source": []
  }
 ],
 "metadata": {
  "kernelspec": {
   "display_name": "Python 3 (ipykernel)",
   "language": "python",
   "name": "python3"
  },
  "language_info": {
   "codemirror_mode": {
    "name": "ipython",
    "version": 3
   },
   "file_extension": ".py",
   "mimetype": "text/x-python",
   "name": "python",
   "nbconvert_exporter": "python",
   "pygments_lexer": "ipython3",
   "version": "3.9.13"
  }
 },
 "nbformat": 4,
 "nbformat_minor": 5
}
