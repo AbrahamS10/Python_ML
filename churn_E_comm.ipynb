{
 "cells": [
  {
   "cell_type": "code",
   "execution_count": 133,
   "id": "57918400-0c77-4fa8-bf11-7896847d35bf",
   "metadata": {},
   "outputs": [
    {
     "name": "stdout",
     "output_type": "stream",
     "text": [
      "Resultados del Modelo:\n",
      "---------------------\n",
      "Error absoluto medio (MAE): 0.10\n",
      "Coeficiente de determinación R^2: 0.73\n",
      "\n",
      "Importancia de las Características:\n",
      "----------------------------------\n",
      "                                  Feature  Importance\n",
      "0                                  Tenure    0.279948\n",
      "1                         WarehouseToHome    0.067608\n",
      "2                          HourSpendOnApp    0.012568\n",
      "3                NumberOfDeviceRegistered    0.029743\n",
      "4                       SatisfactionScore    0.043061\n",
      "5                         NumberOfAddress    0.069723\n",
      "6                                Complain    0.064009\n",
      "7             OrderAmountHikeFromlastYear    0.047763\n",
      "8                              CouponUsed    0.021399\n",
      "9                              OrderCount    0.018212\n",
      "10                      DaySinceLastOrder    0.067477\n",
      "11                         CashbackAmount    0.101516\n",
      "12                               CityTier    0.022172\n",
      "13          PreferredLoginDevice_Computer    0.014059\n",
      "14      PreferredLoginDevice_Mobile Phone    0.005060\n",
      "15             PreferredLoginDevice_Phone    0.006487\n",
      "16                PreferredPaymentMode_CC    0.003294\n",
      "17               PreferredPaymentMode_COD    0.012293\n",
      "18  PreferredPaymentMode_Cash on Delivery    0.002713\n",
      "19       PreferredPaymentMode_Credit Card    0.007712\n",
      "20        PreferredPaymentMode_Debit Card    0.008457\n",
      "21          PreferredPaymentMode_E wallet    0.009252\n",
      "22               PreferredPaymentMode_UPI    0.004144\n",
      "23                          Gender_Female    0.007383\n",
      "24                            Gender_Male    0.006963\n",
      "25               PreferedOrderCat_Fashion    0.006120\n",
      "26               PreferedOrderCat_Grocery    0.001291\n",
      "27    PreferedOrderCat_Laptop & Accessory    0.013602\n",
      "28                PreferedOrderCat_Mobile    0.003106\n",
      "29          PreferedOrderCat_Mobile Phone    0.006101\n",
      "30                PreferedOrderCat_Others    0.001601\n",
      "31                 MaritalStatus_Divorced    0.004772\n",
      "32                  MaritalStatus_Married    0.010469\n",
      "33                   MaritalStatus_Single    0.019922\n"
     ]
    }
   ],
   "source": [
    "\"\"\"\n",
    "Ejercicio de Regresión para Entrevista de Trabajo\n",
    "Fecha: 7 de Junio de 2024\n",
    "Autor: Rodolfo Abraham Sánchez Isidro\n",
    "Propósito: Este script entrena un modelo de regresión de árbol de decisión para predecir la tasa de abandono en una empresa de comercio electrónico y muestra la importancia de las características.\n",
    "\n",
    "\"\"\"\n",
    "\n",
    "# Importar bibliotecas necesarias\n",
    "import pandas as pd\n",
    "from sklearn.metrics import mean_absolute_error, r2_score\n",
    "from sklearn.tree import DecisionTreeRegressor\n",
    "from sklearn.model_selection import train_test_split\n",
    "from sklearn.impute import SimpleImputer\n",
    "from sklearn.ensemble import RandomForestRegressor\n",
    "\n",
    "# Cargar el archivo de Excel\n",
    "file_path = '/Users/Abraham/iCloud Drive (Archive)/Documents/ML-Python/E_Commerce_Dataset.xlsx'\n",
    "with pd.ExcelFile(file_path) as xls:\n",
    "    Ecomm = pd.read_excel(xls, sheet_name='E Comm')\n",
    "\n",
    "# Selección de características\n",
    "y = Ecomm['Churn']\n",
    "\n",
    "# Eliminar las columnas 'CustomerID' y 'Churn' del conjunto de características\n",
    "features_to_encode = ['PreferredLoginDevice', 'CityTier', 'PreferredPaymentMode', 'Gender',\n",
    "                      'PreferedOrderCat', 'MaritalStatus']\n",
    "\n",
    "# Selección de características numéricas\n",
    "numeric_features = ['Tenure', 'WarehouseToHome', 'HourSpendOnApp', 'NumberOfDeviceRegistered',\n",
    "                    'SatisfactionScore', 'NumberOfAddress', 'Complain', 'OrderAmountHikeFromlastYear',\n",
    "                    'CouponUsed', 'OrderCount', 'DaySinceLastOrder', 'CashbackAmount']\n",
    "\n",
    "# Obtener las características numéricas\n",
    "X_numeric = Ecomm[numeric_features]\n",
    "\n",
    "# Obtener las características categóricas y realizar codificación one-hot\n",
    "X_categorical = pd.get_dummies(Ecomm[features_to_encode])\n",
    "\n",
    "# Combinar características numéricas y categóricas codificadas one-hot\n",
    "X_encoded = pd.concat([X_numeric, X_categorical], axis=1)\n",
    "\n",
    "# Imputar los valores faltantes\n",
    "imputer = SimpleImputer(strategy='mean')\n",
    "X_imputed = imputer.fit_transform(X_encoded)\n",
    "\n",
    "# Dividir los datos en conjuntos de entrenamiento y validación\n",
    "train_X, val_X, train_y, val_y = train_test_split(X_imputed, y, random_state=0)\n",
    "\n",
    "# Crear y entrenar el modelo\n",
    "Ecomm_model = RandomForestRegressor(max_leaf_nodes=1000, random_state=0)\n",
    "Ecomm_model.fit(train_X, train_y)\n",
    "\n",
    "# Hacer predicciones en el conjunto de validación\n",
    "preds_all_data = Ecomm_model.predict(val_X)\n",
    "\n",
    "# Calcular el error absoluto medio (MAE)\n",
    "mae = mean_absolute_error(val_y, preds_all_data)\n",
    "\n",
    "# Calcular el coeficiente de determinación R^2\n",
    "r2 = r2_score(val_y, preds_all_data)\n",
    "\n",
    "# Mostrar los resultados\n",
    "print(\"Resultados del Modelo:\")\n",
    "print(\"---------------------\")\n",
    "print(f\"Error absoluto medio (MAE): {mae:.2f}\")\n",
    "print(f\"Coeficiente de determinación R^2: {r2:.2f}\")\n",
    "print(\"\\nImportancia de las Características:\")\n",
    "print(\"----------------------------------\")\n",
    "print(pd.DataFrame({'Feature': X_encoded.columns, 'Importance': Ecomm_model.feature_importances_}))\n"
   ]
  },
  {
   "cell_type": "code",
   "execution_count": 138,
   "id": "a143305c-e8ef-44ff-9477-bef2358a63cc",
   "metadata": {},
   "outputs": [],
   "source": [
    "from sklearn.metrics import mean_absolute_error\n",
    "from sklearn.tree import DecisionTreeRegressor\n",
    "\n",
    "def get_mae(max_leaf_nodes, train_X, val_X, train_y, val_y):\n",
    "    model = RandomForestRegressor(max_leaf_nodes=max_leaf_nodes, random_state=0)\n",
    "    model.fit(train_X, train_y)\n",
    "    preds_val = model.predict(val_X)\n",
    "    mae = mean_absolute_error(val_y, preds_val)\n",
    "    return(mae)"
   ]
  },
  {
   "cell_type": "code",
   "execution_count": 139,
   "id": "9ccf08a6-f41a-4d17-84c5-dd5013bd084f",
   "metadata": {},
   "outputs": [
    {
     "name": "stdout",
     "output_type": "stream",
     "text": [
      "Max leaf nodes: 2.000000  \t\t Mean Absolute Error:  0.218042\n",
      "Max leaf nodes: 5.000000  \t\t Mean Absolute Error:  0.197000\n",
      "Max leaf nodes: 50.000000  \t\t Mean Absolute Error:  0.146128\n",
      "Max leaf nodes: 500.000000  \t\t Mean Absolute Error:  0.095788\n",
      "Max leaf nodes: 5000.000000  \t\t Mean Absolute Error:  0.095788\n",
      "Max leaf nodes: 10000.000000  \t\t Mean Absolute Error:  0.095788\n"
     ]
    }
   ],
   "source": [
    "# compare MAE with differing values of max_leaf_nodes\n",
    "for max_leaf_nodes in [2,5, 50, 500, 5000, 10000]:\n",
    "    my_mae = get_mae(max_leaf_nodes, train_X, val_X, train_y, val_y)\n",
    "    print(\"Max leaf nodes: %f  \\t\\t Mean Absolute Error:  %f\" %(max_leaf_nodes, my_mae))"
   ]
  },
  {
   "cell_type": "code",
   "execution_count": 140,
   "id": "3da82c07-8238-4350-a16a-ffc7a2b50f3d",
   "metadata": {},
   "outputs": [
    {
     "name": "stdout",
     "output_type": "stream",
     "text": [
      "Scores de validación cruzada: [0.89431804 0.84685016 0.88887594 0.86972957 0.88297646]\n",
      "Promedio de R^2 en validación cruzada: 0.88\n"
     ]
    }
   ],
   "source": [
    "from sklearn.model_selection import cross_val_score\n",
    "\n",
    "# Validación cruzada para Random Forest\n",
    "cv_scores = cross_val_score(Ecomm_model, X_imputed, y, cv=5, scoring='r2')\n",
    "print(f\"Scores de validación cruzada: {cv_scores}\")\n",
    "print(f\"Promedio de R^2 en validación cruzada: {cv_scores.mean():.2f}\")\n"
   ]
  },
  {
   "cell_type": "code",
   "execution_count": null,
   "id": "f55cabf1-46d2-43d0-9ff8-9a1cc222d672",
   "metadata": {},
   "outputs": [],
   "source": []
  }
 ],
 "metadata": {
  "kernelspec": {
   "display_name": "Python 3 (ipykernel)",
   "language": "python",
   "name": "python3"
  },
  "language_info": {
   "codemirror_mode": {
    "name": "ipython",
    "version": 3
   },
   "file_extension": ".py",
   "mimetype": "text/x-python",
   "name": "python",
   "nbconvert_exporter": "python",
   "pygments_lexer": "ipython3",
   "version": "3.9.13"
  }
 },
 "nbformat": 4,
 "nbformat_minor": 5
}
