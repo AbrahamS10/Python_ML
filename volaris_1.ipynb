{
 "cells": [
  {
   "cell_type": "code",
   "execution_count": 15,
   "id": "27813301-b45c-4d51-a281-82a30064ac45",
   "metadata": {},
   "outputs": [],
   "source": [
    "import requests\n",
    "import pandas as pd\n",
    "from pyjstat import pyjstat\n",
    "from collections import OrderedDict\n",
    "import matplotlib.pyplot as plt\n",
    "import dash\n",
    "from dash import dcc, html\n",
    "from dash.dependencies import Input, Output"
   ]
  },
  {
   "cell_type": "code",
   "execution_count": 16,
   "id": "fd14e828-29b9-4f9b-8589-7a95a3f3c81c",
   "metadata": {},
   "outputs": [],
   "source": [
    "# URL de la API del INEGI\n",
    "key = '44c77db1-a4bd-c662-9b4c-d22dfbb08213'\n",
    "url = f'https://www.inegi.org.mx/app/api/indicadores/desarrolladores/jsonxml/JSONSTAT/6207123177,6207123170,6207123171,6207123163,6207123165,6207123168/es/0700/false/BISE/{key}?type=jsonStat'\n",
    "\n",
    "# Leer desde json-stat\n",
    "dataset = pyjstat.Dataset.read(url)\n",
    "\n",
    "# Escribir a dataframe\n",
    "df = dataset.write('dataframe')\n",
    "\n",
    "# Filtrar y renombrar dataframes\n",
    "df_gt_t = df.iloc[:68, [0, 4, -1]].rename(columns={\"ID_TIME\": \"Periodo\", \"OBS_VALUE\": \"Value\"}).assign(Indicadores=\"Gasto Total - Terrestres\")\n",
    "df_gt_a = df.iloc[68:136, [0, 4, -1]].rename(columns={\"ID_TIME\": \"Periodo\", \"OBS_VALUE\": \"Value\"}).assign(Indicadores=\"Gasto Total - Aéreos\")\n",
    "df_gm_a = df.iloc[136:204, [0, 4, -1]].rename(columns={\"ID_TIME\": \"Periodo\", \"OBS_VALUE\": \"Value\"}).assign(Indicadores=\"Gasto Medio - Aéreos\")\n",
    "df_nv_a = df.iloc[204:272, [0, 4, -1]].rename(columns={\"ID_TIME\": \"Periodo\", \"OBS_VALUE\": \"Value\"}).assign(Indicadores=\"Número de Visitantes - Aéreos\")\n",
    "df_nv_t = df.iloc[272:340, [0, 4, -1]].rename(columns={\"ID_TIME\": \"Periodo\", \"OBS_VALUE\": \"Value\"}).assign(Indicadores=\"Número de Visitantes - Terrestres\")\n",
    "df_gm_t = df.iloc[340:408, [0, 4, -1]].rename(columns={\"ID_TIME\": \"Periodo\", \"OBS_VALUE\": \"Value\"}).assign(Indicadores=\"Gasto Medio - Terrestres\")\n",
    "\n",
    "# Unir todos los dataframes en uno solo\n",
    "df_final = pd.concat([df_gt_t, df_gt_a, df_gm_a, df_nv_a, df_nv_t, df_gm_t], ignore_index=True)\n",
    "\n",
    "# Extraer el año de la columna Periodo y crear una nueva columna para el año\n",
    "df_final['Año'] = df_final['Periodo'].str.extract(r'(\\d{4})').astype(int)"
   ]
  },
  {
   "cell_type": "code",
   "execution_count": 18,
   "id": "f65d216e-9a65-47cd-b140-8afe43e431e6",
   "metadata": {
    "scrolled": true
   },
   "outputs": [
    {
     "data": {
      "text/html": [
       "\n",
       "        <iframe\n",
       "            width=\"100%\"\n",
       "            height=\"650\"\n",
       "            src=\"http://127.0.0.1:8050/\"\n",
       "            frameborder=\"0\"\n",
       "            allowfullscreen\n",
       "            \n",
       "        ></iframe>\n",
       "        "
      ],
      "text/plain": [
       "<IPython.lib.display.IFrame at 0x118df1df0>"
      ]
     },
     "metadata": {},
     "output_type": "display_data"
    }
   ],
   "source": [
    "# Inicializar la aplicación Dash\n",
    "app = dash.Dash(__name__)\n",
    "\n",
    "# Layout de la aplicación\n",
    "app.layout = html.Div([\n",
    "    html.H1(\"Dashboard de Turismo\"),\n",
    "    dcc.Dropdown(\n",
    "        id='indicadores-dropdown',\n",
    "        options=[\n",
    "            {'label': 'Gasto Total - Terrestres', 'value': 'Gasto Total - Terrestres'},\n",
    "            {'label': 'Gasto Total - Aéreos', 'value': 'Gasto Total - Aéreos'},\n",
    "            {'label': 'Gasto Medio - Aéreos', 'value': 'Gasto Medio - Aéreos'},\n",
    "            {'label': 'Número de Visitantes - Aéreos', 'value': 'Número de Visitantes - Aéreos'},\n",
    "            {'label': 'Número de Visitantes - Terrestres', 'value': 'Número de Visitantes - Terrestres'},\n",
    "            {'label': 'Gasto Medio - Terrestres', 'value': 'Gasto Medio - Terrestres'}\n",
    "        ],\n",
    "        value='Gasto Total - Terrestres'\n",
    "    ),\n",
    "    dcc.RangeSlider(\n",
    "        id='rango-anos',\n",
    "        min=df_final['Año'].min(),\n",
    "        max=df_final['Año'].max(),\n",
    "        step=1,\n",
    "        marks={year: str(year) for year in range(df_final['Año'].min(), df_final['Año'].max() + 1, 1)},\n",
    "        value=[df_final['Año'].min(), df_final['Año'].max()]\n",
    "    ),\n",
    "    dcc.Graph(id='indicadores-graph')\n",
    "])\n",
    "\n",
    "# Callback para actualizar el gráfico\n",
    "@app.callback(\n",
    "    Output('indicadores-graph', 'figure'),\n",
    "    [Input('indicadores-dropdown', 'value'),\n",
    "     Input('rango-anos', 'value')]\n",
    ")\n",
    "def update_graph(selected_indicator, selected_years):\n",
    "    filtered_df = df_final[\n",
    "        (df_final['Indicadores'] == selected_indicator) &\n",
    "        (df_final['Año'] >= selected_years[0]) &\n",
    "        (df_final['Año'] <= selected_years[1])\n",
    "    ]\n",
    "    \n",
    "    fig = {\n",
    "        'data': [{\n",
    "            'x': filtered_df['Periodo'],\n",
    "            'y': filtered_df['value'],\n",
    "            'type': 'line'\n",
    "        }],\n",
    "        'layout': {\n",
    "            'title': f'{selected_indicator} por Periodo'\n",
    "        }\n",
    "    }\n",
    "    return fig\n",
    "\n",
    "# Ejecutar la aplicación\n",
    "if __name__ == '__main__':\n",
    "    app.run_server(debug=True)"
   ]
  },
  {
   "cell_type": "code",
   "execution_count": null,
   "id": "520ecc8b-2f17-4de3-b3c1-2a24ed62ce31",
   "metadata": {},
   "outputs": [],
   "source": []
  }
 ],
 "metadata": {
  "kernelspec": {
   "display_name": "Python 3 (ipykernel)",
   "language": "python",
   "name": "python3"
  },
  "language_info": {
   "codemirror_mode": {
    "name": "ipython",
    "version": 3
   },
   "file_extension": ".py",
   "mimetype": "text/x-python",
   "name": "python",
   "nbconvert_exporter": "python",
   "pygments_lexer": "ipython3",
   "version": "3.9.13"
  }
 },
 "nbformat": 4,
 "nbformat_minor": 5
}
