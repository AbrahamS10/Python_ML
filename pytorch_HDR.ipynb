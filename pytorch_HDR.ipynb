{
 "cells": [
  {
   "cell_type": "code",
   "execution_count": 22,
   "id": "61162431-b1c7-4219-ad28-03d6a4019cd4",
   "metadata": {},
   "outputs": [],
   "source": [
    "from torchvision import datasets\n",
    "from torchvision.transforms import ToTensor"
   ]
  },
  {
   "cell_type": "code",
   "execution_count": 23,
   "id": "1207b9c9-16e6-4b52-afd8-8589e7b8c8a5",
   "metadata": {
    "scrolled": true
   },
   "outputs": [],
   "source": [
    " train_data = datasets.MNIST(\n",
    "     root = 'data',\n",
    "     train = True,\n",
    "     transform = ToTensor(),\n",
    "     download=True\n",
    " )\n",
    " test_data = datasets.MNIST(\n",
    "     root = 'data',\n",
    "     train = False,\n",
    "     transform = ToTensor(),\n",
    "     download=True\n",
    " )"
   ]
  },
  {
   "cell_type": "code",
   "execution_count": 24,
   "id": "1729126e-4f19-4d6b-95e8-ae5fabf16b58",
   "metadata": {},
   "outputs": [
    {
     "data": {
      "text/plain": [
       "torch.Size([60000])"
      ]
     },
     "execution_count": 24,
     "metadata": {},
     "output_type": "execute_result"
    }
   ],
   "source": [
    "train_data.targets.shape  # torch.Size([60000])"
   ]
  },
  {
   "cell_type": "code",
   "execution_count": 25,
   "id": "d25d43c9-573c-47ba-9b7b-5d3c1ee7543e",
   "metadata": {},
   "outputs": [
    {
     "data": {
      "text/plain": [
       "torch.Size([10000, 28, 28])"
      ]
     },
     "execution_count": 25,
     "metadata": {},
     "output_type": "execute_result"
    }
   ],
   "source": [
    "test_data.data.shape   # torch.Size([10000, 28, 28])"
   ]
  },
  {
   "cell_type": "code",
   "execution_count": 26,
   "id": "c9c45012-118b-48e6-8092-aa5119d439fd",
   "metadata": {},
   "outputs": [
    {
     "data": {
      "text/plain": [
       "torch.Size([60000, 28, 28])"
      ]
     },
     "execution_count": 26,
     "metadata": {},
     "output_type": "execute_result"
    }
   ],
   "source": [
    "train_data.data.shape  # torch.Size([60000, 28, 28])"
   ]
  },
  {
   "cell_type": "code",
   "execution_count": 27,
   "id": "fc048521-7398-4fca-9101-af78e50c43ef",
   "metadata": {},
   "outputs": [
    {
     "data": {
      "text/plain": [
       "Dataset MNIST\n",
       "    Number of datapoints: 60000\n",
       "    Root location: data\n",
       "    Split: Train\n",
       "    StandardTransform\n",
       "Transform: ToTensor()"
      ]
     },
     "execution_count": 27,
     "metadata": {},
     "output_type": "execute_result"
    }
   ],
   "source": [
    "train_data"
   ]
  },
  {
   "cell_type": "code",
   "execution_count": 28,
   "id": "7308e186-da9d-41d3-aa35-42e8080c9101",
   "metadata": {},
   "outputs": [
    {
     "data": {
      "text/plain": [
       "Dataset MNIST\n",
       "    Number of datapoints: 10000\n",
       "    Root location: data\n",
       "    Split: Test\n",
       "    StandardTransform\n",
       "Transform: ToTensor()"
      ]
     },
     "execution_count": 28,
     "metadata": {},
     "output_type": "execute_result"
    }
   ],
   "source": [
    "test_data"
   ]
  },
  {
   "cell_type": "code",
   "execution_count": 29,
   "id": "7c66946a-f99f-497d-a12c-ea28c4b8f79e",
   "metadata": {},
   "outputs": [],
   "source": [
    "from torch.utils.data import DataLoader\n",
    "\n",
    "loaders = { \n",
    "\n",
    "    'train': DataLoader(train_data,\n",
    "                        batch_size = 100,\n",
    "                        shuffle = True,\n",
    "                        num_workers = 1),\n",
    "\n",
    "    'test': DataLoader(test_data,\n",
    "                       batch_size = 100,\n",
    "                       shuffle = True,\n",
    "                       num_workers = 1),\n",
    "}"
   ]
  },
  {
   "cell_type": "code",
   "execution_count": 30,
   "id": "ae6d8241-8e0c-452d-b49c-65a27338390b",
   "metadata": {},
   "outputs": [
    {
     "data": {
      "text/plain": [
       "{'train': <torch.utils.data.dataloader.DataLoader at 0x130b8c560>,\n",
       " 'test': <torch.utils.data.dataloader.DataLoader at 0x130b8e6c0>}"
      ]
     },
     "execution_count": 30,
     "metadata": {},
     "output_type": "execute_result"
    }
   ],
   "source": [
    "loaders"
   ]
  },
  {
   "cell_type": "code",
   "execution_count": 46,
   "id": "2ad823bb-72c8-450e-a6fd-db253204d32a",
   "metadata": {},
   "outputs": [],
   "source": [
    "import torch.nn as nn\n",
    "import torch.nn.functional as F\n",
    "import torch.optim as optim\n",
    "\n",
    "class CNN(nn.Module):\n",
    "\n",
    "    def __init__(self):\n",
    "        super(CNN, self).__init__()\n",
    "\n",
    "        self.conv1 = nn.Conv2d(1, 10, kernel_size=5)\n",
    "        self.conv2 = nn.Conv2d(10, 20, kernel_size=5)\n",
    "        self.conv2_drop = nn.Dropout2d()\n",
    "        self.fc1 = nn.Linear(320, 50)\n",
    "        self.fc2 = nn.Linear(50, 10)\n",
    "\n",
    "    def forward(self, x):\n",
    "        x = F.relu(F.max_pool2d(self.conv1(x),2))\n",
    "        x = F.relu(F.max_pool2d(self.conv2_drop(self.conv2(x)),2))\n",
    "        x = x.view(-1, 320)\n",
    "        x = F.relu(self.fc1(x))\n",
    "        x = F.dropout(x, training=self.training)\n",
    "        x = self.fc2(x)\n",
    "\n",
    "        return F.softmax(x)"
   ]
  },
  {
   "cell_type": "code",
   "execution_count": 57,
   "id": "7011d5f6-bd67-4a57-9146-3a2341a4492a",
   "metadata": {},
   "outputs": [],
   "source": [
    "import torch \n",
    "\n",
    "device = torch.device('cuda' if torch.cuda.is_available() else 'cpu')\n",
    "\n",
    "if torch.cuda.is_available():\n",
    "    device = torch.device('cuda')\n",
    "else:\n",
    "    device = torch.device('cpu')\n",
    "\n",
    "model = CNN().to(device)\n",
    "\n",
    "optimizer = optim.Adam(model.parameters(), lr=0.001)\n",
    "\n",
    "loss_fn = nn.CrossEntropyLoss()\n",
    "\n",
    "def train(epoch):\n",
    "    model.train()\n",
    "    for batch_idx, (data, target) in enumerate(loaders['train']):\n",
    "        data, target = data.to(device), target.to(device)\n",
    "        optimizer.zero_grad()\n",
    "        output = model(data)\n",
    "        loss = loss_fn(output, target)\n",
    "        loss.backward()\n",
    "        optimizer.step()\n",
    "        if batch_idx % 20 == 0:\n",
    "            print(f'Train Epoch: {epoch} [{batch_idx*len(data)}/{len(loaders[\"train\"].dataset)} ({100.* batch_idx / len(loaders[\"train\"]):.0f}%)]\\t{loss.item():.6f}')\n",
    "\n",
    "def test():\n",
    "    model.eval()\n",
    "\n",
    "    test_loss = 0 \n",
    "    correct = 0\n",
    "\n",
    "    with torch.no_grad():\n",
    "        for data, target in loaders['test']:\n",
    "            data, target = data.to(device), target.to(device)\n",
    "            output = model(data)\n",
    "            test_loss += loss_fn(output, target).item()\n",
    "            pred = output.argmax(dim=1, keepdim=True)\n",
    "            correct += pred.eq(target.view_as(pred)).sum().item()\n",
    "\n",
    "    test_loss /= len(loaders['test'].dataset)\n",
    "    print(f'\\nTest set: Average loss: {test_loss:.4f}, Accuracy {correct}/{len(loaders[\"test\"].dataset)} ({100. * correct / len(loaders[\"test\"].dataset):.0f}%\\n)')"
   ]
  },
  {
   "cell_type": "code",
   "execution_count": 58,
   "id": "1f35076f-739b-498f-b830-1787fe456685",
   "metadata": {},
   "outputs": [
    {
     "name": "stderr",
     "output_type": "stream",
     "text": [
      "/var/folders/vg/6pkvjy3x7q79jp13vfc6084h0000gn/T/ipykernel_75836/2326015225.py:24: UserWarning: Implicit dimension choice for softmax has been deprecated. Change the call to include dim=X as an argument.\n",
      "  return F.softmax(x)\n"
     ]
    },
    {
     "name": "stdout",
     "output_type": "stream",
     "text": [
      "Train Epoch: 1 [0/60000 (0%)]\t2.303478\n",
      "Train Epoch: 1 [2000/60000 (3%)]\t2.290430\n",
      "Train Epoch: 1 [4000/60000 (7%)]\t2.193280\n",
      "Train Epoch: 1 [6000/60000 (10%)]\t2.084425\n",
      "Train Epoch: 1 [8000/60000 (13%)]\t1.927171\n",
      "Train Epoch: 1 [10000/60000 (17%)]\t1.812995\n",
      "Train Epoch: 1 [12000/60000 (20%)]\t1.771090\n",
      "Train Epoch: 1 [14000/60000 (23%)]\t1.758914\n",
      "Train Epoch: 1 [16000/60000 (27%)]\t1.774249\n",
      "Train Epoch: 1 [18000/60000 (30%)]\t1.737063\n",
      "Train Epoch: 1 [20000/60000 (33%)]\t1.699290\n",
      "Train Epoch: 1 [22000/60000 (37%)]\t1.601766\n",
      "Train Epoch: 1 [24000/60000 (40%)]\t1.702369\n",
      "Train Epoch: 1 [26000/60000 (43%)]\t1.630960\n",
      "Train Epoch: 1 [28000/60000 (47%)]\t1.660199\n",
      "Train Epoch: 1 [30000/60000 (50%)]\t1.589092\n",
      "Train Epoch: 1 [32000/60000 (53%)]\t1.620461\n",
      "Train Epoch: 1 [34000/60000 (57%)]\t1.613389\n",
      "Train Epoch: 1 [36000/60000 (60%)]\t1.633595\n",
      "Train Epoch: 1 [38000/60000 (63%)]\t1.616147\n",
      "Train Epoch: 1 [40000/60000 (67%)]\t1.610468\n",
      "Train Epoch: 1 [42000/60000 (70%)]\t1.614846\n",
      "Train Epoch: 1 [44000/60000 (73%)]\t1.610260\n",
      "Train Epoch: 1 [46000/60000 (77%)]\t1.623835\n",
      "Train Epoch: 1 [48000/60000 (80%)]\t1.567109\n",
      "Train Epoch: 1 [50000/60000 (83%)]\t1.570285\n",
      "Train Epoch: 1 [52000/60000 (87%)]\t1.639525\n",
      "Train Epoch: 1 [54000/60000 (90%)]\t1.637082\n",
      "Train Epoch: 1 [56000/60000 (93%)]\t1.591951\n",
      "Train Epoch: 1 [58000/60000 (97%)]\t1.601878\n",
      "\n",
      "Test set: Average loss: 0.0153, Accuracy 9329/10000 (93%\n",
      ")\n",
      "Train Epoch: 2 [0/60000 (0%)]\t1.576608\n",
      "Train Epoch: 2 [2000/60000 (3%)]\t1.587418\n",
      "Train Epoch: 2 [4000/60000 (7%)]\t1.591709\n",
      "Train Epoch: 2 [6000/60000 (10%)]\t1.564118\n",
      "Train Epoch: 2 [8000/60000 (13%)]\t1.562064\n",
      "Train Epoch: 2 [10000/60000 (17%)]\t1.554545\n",
      "Train Epoch: 2 [12000/60000 (20%)]\t1.587540\n",
      "Train Epoch: 2 [14000/60000 (23%)]\t1.606611\n",
      "Train Epoch: 2 [16000/60000 (27%)]\t1.662549\n",
      "Train Epoch: 2 [18000/60000 (30%)]\t1.565425\n",
      "Train Epoch: 2 [20000/60000 (33%)]\t1.589539\n",
      "Train Epoch: 2 [22000/60000 (37%)]\t1.581082\n",
      "Train Epoch: 2 [24000/60000 (40%)]\t1.572973\n",
      "Train Epoch: 2 [26000/60000 (43%)]\t1.549238\n",
      "Train Epoch: 2 [28000/60000 (47%)]\t1.563162\n",
      "Train Epoch: 2 [30000/60000 (50%)]\t1.595772\n",
      "Train Epoch: 2 [32000/60000 (53%)]\t1.560779\n",
      "Train Epoch: 2 [34000/60000 (57%)]\t1.623762\n",
      "Train Epoch: 2 [36000/60000 (60%)]\t1.574706\n",
      "Train Epoch: 2 [38000/60000 (63%)]\t1.606008\n",
      "Train Epoch: 2 [40000/60000 (67%)]\t1.565749\n",
      "Train Epoch: 2 [42000/60000 (70%)]\t1.522759\n",
      "Train Epoch: 2 [44000/60000 (73%)]\t1.601676\n",
      "Train Epoch: 2 [46000/60000 (77%)]\t1.556908\n",
      "Train Epoch: 2 [48000/60000 (80%)]\t1.615151\n",
      "Train Epoch: 2 [50000/60000 (83%)]\t1.578182\n",
      "Train Epoch: 2 [52000/60000 (87%)]\t1.559137\n",
      "Train Epoch: 2 [54000/60000 (90%)]\t1.546081\n",
      "Train Epoch: 2 [56000/60000 (93%)]\t1.560988\n",
      "Train Epoch: 2 [58000/60000 (97%)]\t1.569247\n",
      "\n",
      "Test set: Average loss: 0.0151, Accuracy 9504/10000 (95%\n",
      ")\n",
      "Train Epoch: 3 [0/60000 (0%)]\t1.576792\n",
      "Train Epoch: 3 [2000/60000 (3%)]\t1.576032\n",
      "Train Epoch: 3 [4000/60000 (7%)]\t1.555780\n",
      "Train Epoch: 3 [6000/60000 (10%)]\t1.525450\n",
      "Train Epoch: 3 [8000/60000 (13%)]\t1.618049\n",
      "Train Epoch: 3 [10000/60000 (17%)]\t1.565086\n",
      "Train Epoch: 3 [12000/60000 (20%)]\t1.576460\n",
      "Train Epoch: 3 [14000/60000 (23%)]\t1.564237\n",
      "Train Epoch: 3 [16000/60000 (27%)]\t1.554484\n",
      "Train Epoch: 3 [18000/60000 (30%)]\t1.543356\n",
      "Train Epoch: 3 [20000/60000 (33%)]\t1.548010\n",
      "Train Epoch: 3 [22000/60000 (37%)]\t1.569553\n",
      "Train Epoch: 3 [24000/60000 (40%)]\t1.563730\n",
      "Train Epoch: 3 [26000/60000 (43%)]\t1.565197\n",
      "Train Epoch: 3 [28000/60000 (47%)]\t1.554526\n",
      "Train Epoch: 3 [30000/60000 (50%)]\t1.563999\n",
      "Train Epoch: 3 [32000/60000 (53%)]\t1.535736\n",
      "Train Epoch: 3 [34000/60000 (57%)]\t1.553838\n",
      "Train Epoch: 3 [36000/60000 (60%)]\t1.533757\n",
      "Train Epoch: 3 [38000/60000 (63%)]\t1.577702\n",
      "Train Epoch: 3 [40000/60000 (67%)]\t1.541209\n",
      "Train Epoch: 3 [42000/60000 (70%)]\t1.564022\n",
      "Train Epoch: 3 [44000/60000 (73%)]\t1.521622\n",
      "Train Epoch: 3 [46000/60000 (77%)]\t1.585071\n",
      "Train Epoch: 3 [48000/60000 (80%)]\t1.522434\n",
      "Train Epoch: 3 [50000/60000 (83%)]\t1.548517\n",
      "Train Epoch: 3 [52000/60000 (87%)]\t1.603128\n",
      "Train Epoch: 3 [54000/60000 (90%)]\t1.497176\n",
      "Train Epoch: 3 [56000/60000 (93%)]\t1.557851\n",
      "Train Epoch: 3 [58000/60000 (97%)]\t1.537828\n",
      "\n",
      "Test set: Average loss: 0.0151, Accuracy 9556/10000 (96%\n",
      ")\n",
      "Train Epoch: 4 [0/60000 (0%)]\t1.565945\n",
      "Train Epoch: 4 [2000/60000 (3%)]\t1.527298\n",
      "Train Epoch: 4 [4000/60000 (7%)]\t1.549499\n",
      "Train Epoch: 4 [6000/60000 (10%)]\t1.595505\n",
      "Train Epoch: 4 [8000/60000 (13%)]\t1.527971\n",
      "Train Epoch: 4 [10000/60000 (17%)]\t1.560954\n",
      "Train Epoch: 4 [12000/60000 (20%)]\t1.564062\n",
      "Train Epoch: 4 [14000/60000 (23%)]\t1.512662\n",
      "Train Epoch: 4 [16000/60000 (27%)]\t1.525115\n",
      "Train Epoch: 4 [18000/60000 (30%)]\t1.577307\n",
      "Train Epoch: 4 [20000/60000 (33%)]\t1.559064\n",
      "Train Epoch: 4 [22000/60000 (37%)]\t1.566616\n",
      "Train Epoch: 4 [24000/60000 (40%)]\t1.516554\n",
      "Train Epoch: 4 [26000/60000 (43%)]\t1.557133\n",
      "Train Epoch: 4 [28000/60000 (47%)]\t1.544641\n",
      "Train Epoch: 4 [30000/60000 (50%)]\t1.513724\n",
      "Train Epoch: 4 [32000/60000 (53%)]\t1.520377\n",
      "Train Epoch: 4 [34000/60000 (57%)]\t1.577318\n",
      "Train Epoch: 4 [36000/60000 (60%)]\t1.540264\n",
      "Train Epoch: 4 [38000/60000 (63%)]\t1.545763\n",
      "Train Epoch: 4 [40000/60000 (67%)]\t1.547432\n",
      "Train Epoch: 4 [42000/60000 (70%)]\t1.571134\n",
      "Train Epoch: 4 [44000/60000 (73%)]\t1.514574\n",
      "Train Epoch: 4 [46000/60000 (77%)]\t1.517075\n",
      "Train Epoch: 4 [48000/60000 (80%)]\t1.551564\n",
      "Train Epoch: 4 [50000/60000 (83%)]\t1.563795\n",
      "Train Epoch: 4 [52000/60000 (87%)]\t1.558227\n",
      "Train Epoch: 4 [54000/60000 (90%)]\t1.559795\n",
      "Train Epoch: 4 [56000/60000 (93%)]\t1.576966\n",
      "Train Epoch: 4 [58000/60000 (97%)]\t1.549183\n",
      "\n",
      "Test set: Average loss: 0.0150, Accuracy 9610/10000 (96%\n",
      ")\n",
      "Train Epoch: 5 [0/60000 (0%)]\t1.560172\n",
      "Train Epoch: 5 [2000/60000 (3%)]\t1.551150\n",
      "Train Epoch: 5 [4000/60000 (7%)]\t1.538626\n",
      "Train Epoch: 5 [6000/60000 (10%)]\t1.531530\n",
      "Train Epoch: 5 [8000/60000 (13%)]\t1.557682\n",
      "Train Epoch: 5 [10000/60000 (17%)]\t1.599578\n",
      "Train Epoch: 5 [12000/60000 (20%)]\t1.565979\n",
      "Train Epoch: 5 [14000/60000 (23%)]\t1.540316\n",
      "Train Epoch: 5 [16000/60000 (27%)]\t1.526444\n",
      "Train Epoch: 5 [18000/60000 (30%)]\t1.574027\n",
      "Train Epoch: 5 [20000/60000 (33%)]\t1.574291\n",
      "Train Epoch: 5 [22000/60000 (37%)]\t1.566158\n",
      "Train Epoch: 5 [24000/60000 (40%)]\t1.533955\n",
      "Train Epoch: 5 [26000/60000 (43%)]\t1.557481\n",
      "Train Epoch: 5 [28000/60000 (47%)]\t1.557496\n",
      "Train Epoch: 5 [30000/60000 (50%)]\t1.516240\n",
      "Train Epoch: 5 [32000/60000 (53%)]\t1.529404\n",
      "Train Epoch: 5 [34000/60000 (57%)]\t1.559326\n",
      "Train Epoch: 5 [36000/60000 (60%)]\t1.550430\n",
      "Train Epoch: 5 [38000/60000 (63%)]\t1.561553\n",
      "Train Epoch: 5 [40000/60000 (67%)]\t1.535739\n",
      "Train Epoch: 5 [42000/60000 (70%)]\t1.502348\n",
      "Train Epoch: 5 [44000/60000 (73%)]\t1.509791\n",
      "Train Epoch: 5 [46000/60000 (77%)]\t1.528624\n",
      "Train Epoch: 5 [48000/60000 (80%)]\t1.527937\n",
      "Train Epoch: 5 [50000/60000 (83%)]\t1.519369\n",
      "Train Epoch: 5 [52000/60000 (87%)]\t1.531902\n",
      "Train Epoch: 5 [54000/60000 (90%)]\t1.536984\n",
      "Train Epoch: 5 [56000/60000 (93%)]\t1.522393\n",
      "Train Epoch: 5 [58000/60000 (97%)]\t1.529024\n",
      "\n",
      "Test set: Average loss: 0.0150, Accuracy 9648/10000 (96%\n",
      ")\n",
      "Train Epoch: 6 [0/60000 (0%)]\t1.561427\n",
      "Train Epoch: 6 [2000/60000 (3%)]\t1.517353\n",
      "Train Epoch: 6 [4000/60000 (7%)]\t1.580584\n",
      "Train Epoch: 6 [6000/60000 (10%)]\t1.527297\n",
      "Train Epoch: 6 [8000/60000 (13%)]\t1.536183\n",
      "Train Epoch: 6 [10000/60000 (17%)]\t1.519452\n",
      "Train Epoch: 6 [12000/60000 (20%)]\t1.537350\n",
      "Train Epoch: 6 [14000/60000 (23%)]\t1.494697\n",
      "Train Epoch: 6 [16000/60000 (27%)]\t1.541571\n",
      "Train Epoch: 6 [18000/60000 (30%)]\t1.532249\n",
      "Train Epoch: 6 [20000/60000 (33%)]\t1.544332\n",
      "Train Epoch: 6 [22000/60000 (37%)]\t1.544385\n",
      "Train Epoch: 6 [24000/60000 (40%)]\t1.541760\n",
      "Train Epoch: 6 [26000/60000 (43%)]\t1.534700\n",
      "Train Epoch: 6 [28000/60000 (47%)]\t1.549895\n",
      "Train Epoch: 6 [30000/60000 (50%)]\t1.510804\n",
      "Train Epoch: 6 [32000/60000 (53%)]\t1.545651\n",
      "Train Epoch: 6 [34000/60000 (57%)]\t1.522418\n",
      "Train Epoch: 6 [36000/60000 (60%)]\t1.544005\n",
      "Train Epoch: 6 [38000/60000 (63%)]\t1.554215\n",
      "Train Epoch: 6 [40000/60000 (67%)]\t1.500580\n",
      "Train Epoch: 6 [42000/60000 (70%)]\t1.490439\n",
      "Train Epoch: 6 [44000/60000 (73%)]\t1.522459\n",
      "Train Epoch: 6 [46000/60000 (77%)]\t1.543480\n",
      "Train Epoch: 6 [48000/60000 (80%)]\t1.578560\n",
      "Train Epoch: 6 [50000/60000 (83%)]\t1.548472\n",
      "Train Epoch: 6 [52000/60000 (87%)]\t1.502247\n",
      "Train Epoch: 6 [54000/60000 (90%)]\t1.556100\n",
      "Train Epoch: 6 [56000/60000 (93%)]\t1.500953\n",
      "Train Epoch: 6 [58000/60000 (97%)]\t1.519399\n",
      "\n",
      "Test set: Average loss: 0.0149, Accuracy 9672/10000 (97%\n",
      ")\n",
      "Train Epoch: 7 [0/60000 (0%)]\t1.522193\n",
      "Train Epoch: 7 [2000/60000 (3%)]\t1.483578\n",
      "Train Epoch: 7 [4000/60000 (7%)]\t1.527517\n",
      "Train Epoch: 7 [6000/60000 (10%)]\t1.501438\n",
      "Train Epoch: 7 [8000/60000 (13%)]\t1.534411\n",
      "Train Epoch: 7 [10000/60000 (17%)]\t1.566155\n",
      "Train Epoch: 7 [12000/60000 (20%)]\t1.557846\n",
      "Train Epoch: 7 [14000/60000 (23%)]\t1.513077\n",
      "Train Epoch: 7 [16000/60000 (27%)]\t1.533286\n",
      "Train Epoch: 7 [18000/60000 (30%)]\t1.512064\n",
      "Train Epoch: 7 [20000/60000 (33%)]\t1.533312\n",
      "Train Epoch: 7 [22000/60000 (37%)]\t1.572663\n",
      "Train Epoch: 7 [24000/60000 (40%)]\t1.588405\n",
      "Train Epoch: 7 [26000/60000 (43%)]\t1.528574\n",
      "Train Epoch: 7 [28000/60000 (47%)]\t1.521002\n",
      "Train Epoch: 7 [30000/60000 (50%)]\t1.522333\n",
      "Train Epoch: 7 [32000/60000 (53%)]\t1.509105\n",
      "Train Epoch: 7 [34000/60000 (57%)]\t1.525418\n",
      "Train Epoch: 7 [36000/60000 (60%)]\t1.564315\n",
      "Train Epoch: 7 [38000/60000 (63%)]\t1.533817\n",
      "Train Epoch: 7 [40000/60000 (67%)]\t1.545093\n",
      "Train Epoch: 7 [42000/60000 (70%)]\t1.533867\n",
      "Train Epoch: 7 [44000/60000 (73%)]\t1.556040\n",
      "Train Epoch: 7 [46000/60000 (77%)]\t1.529685\n",
      "Train Epoch: 7 [48000/60000 (80%)]\t1.535016\n",
      "Train Epoch: 7 [50000/60000 (83%)]\t1.536717\n",
      "Train Epoch: 7 [52000/60000 (87%)]\t1.525893\n",
      "Train Epoch: 7 [54000/60000 (90%)]\t1.580386\n",
      "Train Epoch: 7 [56000/60000 (93%)]\t1.505879\n",
      "Train Epoch: 7 [58000/60000 (97%)]\t1.557102\n",
      "\n",
      "Test set: Average loss: 0.0149, Accuracy 9688/10000 (97%\n",
      ")\n",
      "Train Epoch: 8 [0/60000 (0%)]\t1.531018\n",
      "Train Epoch: 8 [2000/60000 (3%)]\t1.524295\n",
      "Train Epoch: 8 [4000/60000 (7%)]\t1.528789\n",
      "Train Epoch: 8 [6000/60000 (10%)]\t1.589204\n",
      "Train Epoch: 8 [8000/60000 (13%)]\t1.509056\n",
      "Train Epoch: 8 [10000/60000 (17%)]\t1.580859\n",
      "Train Epoch: 8 [12000/60000 (20%)]\t1.600690\n",
      "Train Epoch: 8 [14000/60000 (23%)]\t1.548324\n",
      "Train Epoch: 8 [16000/60000 (27%)]\t1.552021\n",
      "Train Epoch: 8 [18000/60000 (30%)]\t1.548579\n",
      "Train Epoch: 8 [20000/60000 (33%)]\t1.529519\n",
      "Train Epoch: 8 [22000/60000 (37%)]\t1.515828\n",
      "Train Epoch: 8 [24000/60000 (40%)]\t1.527093\n",
      "Train Epoch: 8 [26000/60000 (43%)]\t1.527458\n",
      "Train Epoch: 8 [28000/60000 (47%)]\t1.507694\n",
      "Train Epoch: 8 [30000/60000 (50%)]\t1.524905\n",
      "Train Epoch: 8 [32000/60000 (53%)]\t1.513452\n",
      "Train Epoch: 8 [34000/60000 (57%)]\t1.570612\n",
      "Train Epoch: 8 [36000/60000 (60%)]\t1.572911\n",
      "Train Epoch: 8 [38000/60000 (63%)]\t1.529176\n",
      "Train Epoch: 8 [40000/60000 (67%)]\t1.517626\n",
      "Train Epoch: 8 [42000/60000 (70%)]\t1.556742\n",
      "Train Epoch: 8 [44000/60000 (73%)]\t1.493406\n",
      "Train Epoch: 8 [46000/60000 (77%)]\t1.513547\n",
      "Train Epoch: 8 [48000/60000 (80%)]\t1.574412\n",
      "Train Epoch: 8 [50000/60000 (83%)]\t1.512115\n",
      "Train Epoch: 8 [52000/60000 (87%)]\t1.510725\n",
      "Train Epoch: 8 [54000/60000 (90%)]\t1.542381\n",
      "Train Epoch: 8 [56000/60000 (93%)]\t1.495689\n",
      "Train Epoch: 8 [58000/60000 (97%)]\t1.538211\n",
      "\n",
      "Test set: Average loss: 0.0149, Accuracy 9688/10000 (97%\n",
      ")\n",
      "Train Epoch: 9 [0/60000 (0%)]\t1.537968\n",
      "Train Epoch: 9 [2000/60000 (3%)]\t1.553029\n",
      "Train Epoch: 9 [4000/60000 (7%)]\t1.538220\n",
      "Train Epoch: 9 [6000/60000 (10%)]\t1.553924\n",
      "Train Epoch: 9 [8000/60000 (13%)]\t1.508301\n",
      "Train Epoch: 9 [10000/60000 (17%)]\t1.519385\n",
      "Train Epoch: 9 [12000/60000 (20%)]\t1.530934\n",
      "Train Epoch: 9 [14000/60000 (23%)]\t1.533635\n",
      "Train Epoch: 9 [16000/60000 (27%)]\t1.490943\n",
      "Train Epoch: 9 [18000/60000 (30%)]\t1.526281\n",
      "Train Epoch: 9 [20000/60000 (33%)]\t1.556015\n",
      "Train Epoch: 9 [22000/60000 (37%)]\t1.497201\n",
      "Train Epoch: 9 [24000/60000 (40%)]\t1.551616\n",
      "Train Epoch: 9 [26000/60000 (43%)]\t1.492914\n",
      "Train Epoch: 9 [28000/60000 (47%)]\t1.509752\n",
      "Train Epoch: 9 [30000/60000 (50%)]\t1.546165\n",
      "Train Epoch: 9 [32000/60000 (53%)]\t1.489630\n",
      "Train Epoch: 9 [34000/60000 (57%)]\t1.541048\n",
      "Train Epoch: 9 [36000/60000 (60%)]\t1.598757\n",
      "Train Epoch: 9 [38000/60000 (63%)]\t1.514146\n",
      "Train Epoch: 9 [40000/60000 (67%)]\t1.512425\n",
      "Train Epoch: 9 [42000/60000 (70%)]\t1.518951\n",
      "Train Epoch: 9 [44000/60000 (73%)]\t1.539578\n",
      "Train Epoch: 9 [46000/60000 (77%)]\t1.517694\n",
      "Train Epoch: 9 [48000/60000 (80%)]\t1.512498\n",
      "Train Epoch: 9 [50000/60000 (83%)]\t1.490601\n",
      "Train Epoch: 9 [52000/60000 (87%)]\t1.513978\n",
      "Train Epoch: 9 [54000/60000 (90%)]\t1.518232\n",
      "Train Epoch: 9 [56000/60000 (93%)]\t1.529463\n",
      "Train Epoch: 9 [58000/60000 (97%)]\t1.493887\n",
      "\n",
      "Test set: Average loss: 0.0149, Accuracy 9699/10000 (97%\n",
      ")\n",
      "Train Epoch: 10 [0/60000 (0%)]\t1.518920\n",
      "Train Epoch: 10 [2000/60000 (3%)]\t1.526116\n",
      "Train Epoch: 10 [4000/60000 (7%)]\t1.525838\n",
      "Train Epoch: 10 [6000/60000 (10%)]\t1.524053\n",
      "Train Epoch: 10 [8000/60000 (13%)]\t1.505790\n",
      "Train Epoch: 10 [10000/60000 (17%)]\t1.540686\n",
      "Train Epoch: 10 [12000/60000 (20%)]\t1.519786\n",
      "Train Epoch: 10 [14000/60000 (23%)]\t1.519342\n",
      "Train Epoch: 10 [16000/60000 (27%)]\t1.559516\n",
      "Train Epoch: 10 [18000/60000 (30%)]\t1.523720\n",
      "Train Epoch: 10 [20000/60000 (33%)]\t1.515031\n",
      "Train Epoch: 10 [22000/60000 (37%)]\t1.497635\n",
      "Train Epoch: 10 [24000/60000 (40%)]\t1.477629\n",
      "Train Epoch: 10 [26000/60000 (43%)]\t1.516452\n",
      "Train Epoch: 10 [28000/60000 (47%)]\t1.505172\n",
      "Train Epoch: 10 [30000/60000 (50%)]\t1.515538\n",
      "Train Epoch: 10 [32000/60000 (53%)]\t1.518277\n",
      "Train Epoch: 10 [34000/60000 (57%)]\t1.514989\n",
      "Train Epoch: 10 [36000/60000 (60%)]\t1.484153\n",
      "Train Epoch: 10 [38000/60000 (63%)]\t1.510547\n",
      "Train Epoch: 10 [40000/60000 (67%)]\t1.510689\n",
      "Train Epoch: 10 [42000/60000 (70%)]\t1.526635\n",
      "Train Epoch: 10 [44000/60000 (73%)]\t1.486361\n",
      "Train Epoch: 10 [46000/60000 (77%)]\t1.531903\n",
      "Train Epoch: 10 [48000/60000 (80%)]\t1.519270\n",
      "Train Epoch: 10 [50000/60000 (83%)]\t1.509340\n",
      "Train Epoch: 10 [52000/60000 (87%)]\t1.546224\n",
      "Train Epoch: 10 [54000/60000 (90%)]\t1.502944\n",
      "Train Epoch: 10 [56000/60000 (93%)]\t1.486673\n",
      "Train Epoch: 10 [58000/60000 (97%)]\t1.531978\n",
      "\n",
      "Test set: Average loss: 0.0149, Accuracy 9711/10000 (97%\n",
      ")\n"
     ]
    }
   ],
   "source": [
    "for epoch in range(1, 11):\n",
    "    train(epoch)\n",
    "    test()"
   ]
  },
  {
   "cell_type": "code",
   "execution_count": 59,
   "id": "b13a0a69-d356-48df-a169-aafe1c153ae4",
   "metadata": {},
   "outputs": [
    {
     "data": {
      "text/plain": [
       "device(type='cpu')"
      ]
     },
     "execution_count": 59,
     "metadata": {},
     "output_type": "execute_result"
    }
   ],
   "source": [
    "device"
   ]
  },
  {
   "cell_type": "code",
   "execution_count": 67,
   "id": "68232e2b-438b-4962-9449-051f9ddcb2d3",
   "metadata": {},
   "outputs": [
    {
     "name": "stderr",
     "output_type": "stream",
     "text": [
      "/var/folders/vg/6pkvjy3x7q79jp13vfc6084h0000gn/T/ipykernel_75836/2326015225.py:24: UserWarning: Implicit dimension choice for softmax has been deprecated. Change the call to include dim=X as an argument.\n",
      "  return F.softmax(x)\n"
     ]
    },
    {
     "name": "stdout",
     "output_type": "stream",
     "text": [
      "Prediction: 1\n"
     ]
    },
    {
     "data": {
      "image/png": "[encoded data removed]",
      "text/plain": [
       "<Figure size 640x480 with 1 Axes>"
      ]
     },
     "metadata": {},
     "output_type": "display_data"
    }
   ],
   "source": [
    "import matplotlib.pyplot as plt\n",
    "\n",
    "model.eval()\n",
    "\n",
    "data, target = test_data[5]\n",
    "\n",
    "data = data.unsqueeze(0).to(device)\n",
    "\n",
    "output = model(data)\n",
    "\n",
    "prediction = output.argmax(dim=1, keepdim=True).item()\n",
    "\n",
    "print(f'Prediction: {prediction}')\n",
    "\n",
    "image = data.squeeze(0).squeeze(0).cpu().numpy()\n",
    "\n",
    "plt.imshow(image, cmap='gray')\n",
    "plt.show()"
   ]
  },
  {
   "cell_type": "code",
   "execution_count": null,
   "id": "53ff39a1-3830-425c-b54e-064d0aef9dc5",
   "metadata": {},
   "outputs": [],
   "source": []
  }
 ],
 "metadata": {
  "kernelspec": {
   "display_name": "Python 3 (ipykernel)",
   "language": "python",
   "name": "python3"
  },
  "language_info": {
   "codemirror_mode": {
    "name": "ipython",
    "version": 3
   },
   "file_extension": ".py",
   "mimetype": "text/x-python",
   "name": "python",
   "nbconvert_exporter": "python",
   "pygments_lexer": "ipython3",
   "version": "3.12.1"
  }
 },
 "nbformat": 4,
 "nbformat_minor": 5
}
