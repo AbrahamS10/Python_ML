{
 "cells": [
  {
   "cell_type": "code",
   "execution_count": 1,
   "id": "9b9f1720-1f2b-4a4f-ba18-72bf42336217",
   "metadata": {},
   "outputs": [],
   "source": [
    "# Codigo para extraer datos\n",
    "import requests\n",
    "\n",
    "def extract(api_key, city):\n",
    "    url = f\"http://api.openweathermap.org/data/2.5/weather?q={city}&appid={api_key}&units=metric\"\n",
    "    response = requests.get(url)\n",
    "    data = response.json()\n",
    "    return data"
   ]
  },
  {
   "cell_type": "code",
   "execution_count": 2,
   "id": "b154cbd8-a724-488b-9780-4eaf3d052e4d",
   "metadata": {},
   "outputs": [],
   "source": [
    "# Transformar datos extraidos\n",
    "import pandas as pd\n",
    "\n",
    "def transform(data):\n",
    "    weather = {\n",
    "        \"city\": data[\"name\"],\n",
    "        \"temperature\": data[\"main\"][\"temp\"],\n",
    "        \"humidity\": data[\"main\"][\"humidity\"],\n",
    "        \"pressure\": data[\"main\"][\"pressure\"],\n",
    "        \"weather\": data[\"weather\"][0][\"description\"],\n",
    "        \"wind_speed\": data[\"wind\"][\"speed\"]\n",
    "    }\n",
    "    df = pd.DataFrame([weather])\n",
    "    return df"
   ]
  },
  {
   "cell_type": "code",
   "execution_count": 3,
   "id": "4cecc9a0-e655-4336-91fd-a554f06806c3",
   "metadata": {},
   "outputs": [],
   "source": [
    "# Cargar en una base de datos \n",
    "from sqlalchemy import create_engine\n",
    "\n",
    "def load(df):\n",
    "    engine = create_engine('sqlite:///weather_data.db')\n",
    "    df.to_sql('weather', con=engine, if_exists='append', index=False)"
   ]
  },
  {
   "cell_type": "code",
   "execution_count": 6,
   "id": "8d9c2318-7088-4001-93ac-8e3bb86b29ec",
   "metadata": {},
   "outputs": [
    {
     "ename": "SyntaxError",
     "evalue": "EOL while scanning string literal (1658889236.py, line 11)",
     "output_type": "error",
     "traceback": [
      "\u001b[0;36m  Cell \u001b[0;32mIn[6], line 11\u001b[0;36m\u001b[0m\n\u001b[0;31m    print(f\"Datos de {city} cargados correctamente\u001b[0m\n\u001b[0m                                                  ^\u001b[0m\n\u001b[0;31mSyntaxError\u001b[0m\u001b[0;31m:\u001b[0m EOL while scanning string literal\n"
     ]
    }
   ],
   "source": [
    "# Función principal para orquestar ETL\n",
    "def etl(api_key, city):\n",
    "    # Extraer\n",
    "    raw_data = extract(api_key, city)\n",
    "    \n",
    "    # Transformar\n",
    "    transformed_data = transform(raw_data)\n",
    "    \n",
    "    # Cargar\n",
    "    load(transformed_data)\n",
    "    print(f\"Datos de {city} cargados correctamente"
   ]
  },
  {
   "cell_type": "code",
   "execution_count": null,
   "id": "caeaeccb-a389-45f7-9bb0-9f2d9e5dd54e",
   "metadata": {},
   "outputs": [],
   "source": []
  }
 ],
 "metadata": {
  "kernelspec": {
   "display_name": "Python 3 (ipykernel)",
   "language": "python",
   "name": "python3"
  },
  "language_info": {
   "codemirror_mode": {
    "name": "ipython",
    "version": 3
   },
   "file_extension": ".py",
   "mimetype": "text/x-python",
   "name": "python",
   "nbconvert_exporter": "python",
   "pygments_lexer": "ipython3",
   "version": "3.9.13"
  }
 },
 "nbformat": 4,
 "nbformat_minor": 5
}
